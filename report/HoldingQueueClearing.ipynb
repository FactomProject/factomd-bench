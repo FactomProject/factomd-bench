{
 "cells": [
  {
   "cell_type": "code",
   "execution_count": 1,
   "metadata": {},
   "outputs": [],
   "source": [
    "import psycopg2 as pg\n",
    "import pandas.io.sql as psql\n",
    "import pandas as pd\n",
    "import warnings\n",
    "warnings.filterwarnings('ignore')"
   ]
  },
  {
   "cell_type": "code",
   "execution_count": 2,
   "metadata": {},
   "outputs": [],
   "source": [
    "_query = \"\"\"\n",
    "SELECT\n",
    "  run,\n",
    "  trim('\"' FROM seq::text )::int as seq,\n",
    "  trim('\"' FROM block::text )::int as block,\n",
    "  trim('\"' FROM min::text )::int as min,\n",
    "  --e0,\n",
    "  e1::decimal/100000000 as batch_sec, -- time in sec as\n",
    "  --e2\n",
    "  ts::text::time\n",
    "\n",
    "FROM\n",
    "  (SELECT\n",
    "    run,\n",
    "    e->'ts' as ts,\n",
    "    e->'seq' as seq,\n",
    "    e->'log'->'height' as block,\n",
    "    e->'log'->'min' as min,\n",
    "    --e->'log'->'event' as event,\n",
    "    e->'log'->'event'->0 as e0,\n",
    "    e->'log'->'event'->1 as e1,\n",
    "    e->'log'->'event'->2 as e2\n",
    "  FROM\n",
    "    fnode0.simtest) as s\n",
    "WHERE\n",
    "  e2::text like '%RUNTIME%'\n",
    "\"\"\"\n",
    "\n",
    "_order = \"\"\"\n",
    "ORDER BY\n",
    "  run, seq ;\n",
    "\"\"\"\n",
    "\n",
    "def query(i):\n",
    "    return _query + ' AND run = %s ' % i + _order\n",
    "\n",
    "connection = pg.connect(\"host='localhost' dbname=load user=load password='load'\")"
   ]
  },
  {
   "cell_type": "code",
   "execution_count": 3,
   "metadata": {},
   "outputs": [
    {
     "data": {
      "text/html": [
       "<div>\n",
       "<style scoped>\n",
       "    .dataframe tbody tr th:only-of-type {\n",
       "        vertical-align: middle;\n",
       "    }\n",
       "\n",
       "    .dataframe tbody tr th {\n",
       "        vertical-align: top;\n",
       "    }\n",
       "\n",
       "    .dataframe thead th {\n",
       "        text-align: right;\n",
       "    }\n",
       "</style>\n",
       "<table border=\"1\" class=\"dataframe\">\n",
       "  <thead>\n",
       "    <tr style=\"text-align: right;\">\n",
       "      <th></th>\n",
       "      <th>id</th>\n",
       "      <th>label</th>\n",
       "      <th>ts</th>\n",
       "    </tr>\n",
       "  </thead>\n",
       "  <tbody>\n",
       "    <tr>\n",
       "      <th>0</th>\n",
       "      <td>1</td>\n",
       "      <td>v5_oldcode_Jan30_2_drop_line</td>\n",
       "      <td>2019-01-31 20:01:40.916787</td>\n",
       "    </tr>\n",
       "    <tr>\n",
       "      <th>1</th>\n",
       "      <td>2</td>\n",
       "      <td>v6_newcode_Jan30_2_drop_line</td>\n",
       "      <td>2019-01-31 20:17:18.531736</td>\n",
       "    </tr>\n",
       "  </tbody>\n",
       "</table>\n",
       "</div>"
      ],
      "text/plain": [
       "   id                         label                         ts\n",
       "0   1  v5_oldcode_Jan30_2_drop_line 2019-01-31 20:01:40.916787\n",
       "1   2  v6_newcode_Jan30_2_drop_line 2019-01-31 20:17:18.531736"
      ]
     },
     "execution_count": 3,
     "metadata": {},
     "output_type": "execute_result"
    }
   ],
   "source": [
    "log_runs = pd.read_sql_query('SELECT * from log_runs;', con=connection)\n",
    "log_runs"
   ]
  },
  {
   "cell_type": "code",
   "execution_count": 4,
   "metadata": {},
   "outputs": [
    {
     "data": {
      "text/html": [
       "<iframe id=\"igraph\" scrolling=\"no\" style=\"border:none;\" seamless=\"seamless\" src=\"https://plot.ly/~VeenaGondkar/6.embed\" height=\"525px\" width=\"100%\"></iframe>"
      ],
      "text/plain": [
       "<plotly.tools.PlotlyDisplay object>"
      ]
     },
     "execution_count": 4,
     "metadata": {},
     "output_type": "execute_result"
    }
   ],
   "source": [
    "import plotly.plotly as py\n",
    "import plotly.graph_objs as go\n",
    "\n",
    "data = []\n",
    "for i, n in log_runs['label'].items():\n",
    "    r = log_runs['id'][i]\n",
    "    df = pd.read_sql_query(query(r), con=connection)\n",
    "    data.append(\n",
    "        go.Scatter(x=df['ts'], y=df['batch_sec'], name=n.replace('test_',''))\n",
    "    )\n",
    "\n",
    "py.iplot(data, filename='holdingqueueclearing')"
   ]
  },
  {
   "cell_type": "code",
   "execution_count": null,
   "metadata": {},
   "outputs": [],
   "source": []
  }
 ],
 "metadata": {
  "kernelspec": {
   "display_name": "Python 3",
   "language": "python",
   "name": "python3"
  },
  "language_info": {
   "codemirror_mode": {
    "name": "ipython",
    "version": 3
   },
   "file_extension": ".py",
   "mimetype": "text/x-python",
   "name": "python",
   "nbconvert_exporter": "python",
   "pygments_lexer": "ipython3",
   "version": "3.6.7"
  }
 },
 "nbformat": 4,
 "nbformat_minor": 2
}

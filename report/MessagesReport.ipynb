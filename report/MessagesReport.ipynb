{
 "cells": [
  {
   "cell_type": "code",
   "execution_count": 1,
   "metadata": {},
   "outputs": [],
   "source": [
    "import psycopg2 as pg\n",
    "import pandas.io.sql as psql\n",
    "import pandas as pd\n",
    "import warnings\n",
    "warnings.filterwarnings('ignore')"
   ]
  },
  {
   "cell_type": "code",
   "execution_count": 2,
   "metadata": {},
   "outputs": [],
   "source": [
    "_query = \"\"\"\n",
    "SELECT\n",
    "  count(*),\n",
    "  trim('\"' FROM block::text )::int as block\n",
    "FROM (SELECT\n",
    "e->'log'->'height'::text as block\n",
    "from fnode0.missing_messages\n",
    " WHERE e->'log'->'event'->4 is not null \n",
    "\"\"\"\n",
    "\n",
    "_order = \"\"\"\n",
    " ) as s\n",
    "  GROUP by s.block\n",
    " ORDER BY block ;\"\"\"\n",
    "\n",
    "\n",
    "def query(i):\n",
    "    return _query + ' AND run = %s ' % i + _order\n",
    "\n",
    "connection = pg.connect(\"host='localdb' dbname=load user=load password='load'\")"
   ]
  },
  {
   "cell_type": "code",
   "execution_count": 6,
   "metadata": {},
   "outputs": [
    {
     "data": {
      "text/html": [
       "<div>\n",
       "<style scoped>\n",
       "    .dataframe tbody tr th:only-of-type {\n",
       "        vertical-align: middle;\n",
       "    }\n",
       "\n",
       "    .dataframe tbody tr th {\n",
       "        vertical-align: top;\n",
       "    }\n",
       "\n",
       "    .dataframe thead th {\n",
       "        text-align: right;\n",
       "    }\n",
       "</style>\n",
       "<table border=\"1\" class=\"dataframe\">\n",
       "  <thead>\n",
       "    <tr style=\"text-align: right;\">\n",
       "      <th></th>\n",
       "      <th>id</th>\n",
       "      <th>label</th>\n",
       "      <th>ts</th>\n",
       "    </tr>\n",
       "  </thead>\n",
       "  <tbody>\n",
       "    <tr>\n",
       "      <th>0</th>\n",
       "      <td>1</td>\n",
       "      <td>v5_test_LLLLLLLFF_d100</td>\n",
       "      <td>2019-01-31 17:07:33.116239</td>\n",
       "    </tr>\n",
       "    <tr>\n",
       "      <th>1</th>\n",
       "      <td>3</td>\n",
       "      <td>v6_test_LLLLLLLFF_d100</td>\n",
       "      <td>2019-01-31 17:09:05.469478</td>\n",
       "    </tr>\n",
       "  </tbody>\n",
       "</table>\n",
       "</div>"
      ],
      "text/plain": [
       "   id                   label                         ts\n",
       "0   1  v5_test_LLLLLLLFF_d100 2019-01-31 17:07:33.116239\n",
       "1   3  v6_test_LLLLLLLFF_d100 2019-01-31 17:09:05.469478"
      ]
     },
     "execution_count": 6,
     "metadata": {},
     "output_type": "execute_result"
    }
   ],
   "source": [
    "log_runs = pd.read_sql_query('SELECT * from log_runs WHERE id in (3, 1);', con=connection)\n",
    "log_runs"
   ]
  },
  {
   "cell_type": "code",
   "execution_count": 13,
   "metadata": {
    "scrolled": true
   },
   "outputs": [
    {
     "data": {
      "text/html": [
       "<iframe id=\"igraph\" scrolling=\"no\" style=\"border:none;\" seamless=\"seamless\" src=\"https://plot.ly/~stackdump/30.embed\" height=\"525px\" width=\"100%\"></iframe>"
      ],
      "text/plain": [
       "<plotly.tools.PlotlyDisplay object>"
      ]
     },
     "execution_count": 13,
     "metadata": {},
     "output_type": "execute_result"
    }
   ],
   "source": [
    "import plotly.plotly as py\n",
    "import plotly.graph_objs as go\n",
    "\n",
    "data = []\n",
    "frames = []\n",
    "for i, n in log_runs['label'].items():\n",
    "    r = log_runs['id'][i]\n",
    "    df = pd.read_sql_query(query(r), con=connection)\n",
    "    frames.append(df)\n",
    "    data.append(\n",
    "        go.Scatter(x=df['block'], y=df['count'], name=n.replace('test_',''))\n",
    "    )\n",
    "\n",
    "py.iplot(data, filename='WIP-messages')"
   ]
  },
  {
   "cell_type": "code",
   "execution_count": 10,
   "metadata": {},
   "outputs": [
    {
     "data": {
      "text/plain": [
       "8.281975517095812"
      ]
     },
     "execution_count": 10,
     "metadata": {},
     "output_type": "execute_result"
    }
   ],
   "source": [
    "s = (frames[0].sum()['count'] / 10, frames[1].sum()['count'] / 10)\n",
    "\n",
    "100 * (s[0] - s[1]) / s[1] # Average % improvement"
   ]
  },
  {
   "cell_type": "markdown",
   "metadata": {},
   "source": [
    "## Missing Messages\n",
    "\n",
    "### Test Scenario: 7 Leader 2 followers\n",
    "\n",
    "* Ran simulator pushing 10 sets of 1000 commit/reveal messages.\n",
    "* Simulator is configured to drop 10% of network messages\n",
    "* Network is configured in 'alot' configuration\n",
    "* Each set is pushed into the API Queue first (without EC funding)\n",
    "* Then the associated EC address is funded allowing messages to be processed.\n",
    "\n",
    "### Result: Stability Gains\n",
    "\n",
    "This data shows that in v6.1.1 ~8% fewer missing messages are being generated indiciating an overall improvement to network efficency. \n",
    "\n",
    "This is important for stability under load where the increased overhead of network messages can cause lag and eventually loss of consensus."
   ]
  }
 ],
 "metadata": {
  "kernelspec": {
   "display_name": "Python 3",
   "language": "python",
   "name": "python3"
  },
  "language_info": {
   "codemirror_mode": {
    "name": "ipython",
    "version": 3
   },
   "file_extension": ".py",
   "mimetype": "text/x-python",
   "name": "python",
   "nbconvert_exporter": "python",
   "pygments_lexer": "ipython3",
   "version": "3.6.7"
  }
 },
 "nbformat": 4,
 "nbformat_minor": 2
}

{
 "cells": [
  {
   "cell_type": "code",
   "execution_count": 7,
   "metadata": {},
   "outputs": [],
   "source": [
    "import psycopg2 as pg\n",
    "import pandas.io.sql as psql\n",
    "import pandas as pd\n",
    "import warnings\n",
    "warnings.filterwarnings('ignore')"
   ]
  },
  {
   "cell_type": "code",
   "execution_count": 8,
   "metadata": {},
   "outputs": [],
   "source": [
    "_query = \"\"\"\n",
    "SELECT\n",
    "  count(*),\n",
    "  trim('\"' FROM block::text )::int as block\n",
    "FROM (SELECT\n",
    "e->'log'->'height'::text as block\n",
    "from fnode0.missing_messages\n",
    " WHERE e->'log'->'event'->4 is not null \n",
    "\"\"\"\n",
    "\n",
    "_order = \"\"\"\n",
    " ) as s\n",
    "  GROUP by s.block\n",
    " ORDER BY block ;\"\"\"\n",
    "\n",
    "\n",
    "def query(i):\n",
    "    return _query + ' AND run = %s ' % i + _order\n",
    "\n",
    "connection = pg.connect(\"host='localhost' dbname=load user=load password='load'\")"
   ]
  },
  {
   "cell_type": "code",
   "execution_count": 9,
   "metadata": {
    "scrolled": true
   },
   "outputs": [
    {
     "data": {
      "text/html": [
       "<div>\n",
       "<style scoped>\n",
       "    .dataframe tbody tr th:only-of-type {\n",
       "        vertical-align: middle;\n",
       "    }\n",
       "\n",
       "    .dataframe tbody tr th {\n",
       "        vertical-align: top;\n",
       "    }\n",
       "\n",
       "    .dataframe thead th {\n",
       "        text-align: right;\n",
       "    }\n",
       "</style>\n",
       "<table border=\"1\" class=\"dataframe\">\n",
       "  <thead>\n",
       "    <tr style=\"text-align: right;\">\n",
       "      <th></th>\n",
       "      <th>id</th>\n",
       "      <th>label</th>\n",
       "      <th>ts</th>\n",
       "    </tr>\n",
       "  </thead>\n",
       "  <tbody>\n",
       "    <tr>\n",
       "      <th>0</th>\n",
       "      <td>1</td>\n",
       "      <td>v5_oldcode_Jan30_2_drop_line</td>\n",
       "      <td>2019-01-31 20:01:40.916787</td>\n",
       "    </tr>\n",
       "    <tr>\n",
       "      <th>1</th>\n",
       "      <td>2</td>\n",
       "      <td>v6_newcode_Jan30_2_drop_line</td>\n",
       "      <td>2019-01-31 20:17:18.531736</td>\n",
       "    </tr>\n",
       "  </tbody>\n",
       "</table>\n",
       "</div>"
      ],
      "text/plain": [
       "   id                         label                         ts\n",
       "0   1  v5_oldcode_Jan30_2_drop_line 2019-01-31 20:01:40.916787\n",
       "1   2  v6_newcode_Jan30_2_drop_line 2019-01-31 20:17:18.531736"
      ]
     },
     "execution_count": 9,
     "metadata": {},
     "output_type": "execute_result"
    }
   ],
   "source": [
    "log_runs = pd.read_sql_query('SELECT * from log_runs;', con=connection)\n",
    "log_runs"
   ]
  },
  {
   "cell_type": "code",
   "execution_count": 10,
   "metadata": {},
   "outputs": [
    {
     "name": "stdout",
     "output_type": "stream",
     "text": [
      "High five! You successfully sent some data to your account on plotly. View your plot in your browser at https://plot.ly/~VeenaGondkar/0 or inside your plot.ly account where it is named 'WIP-messages'\n"
     ]
    },
    {
     "data": {
      "text/html": [
       "<iframe id=\"igraph\" scrolling=\"no\" style=\"border:none;\" seamless=\"seamless\" src=\"https://plot.ly/~VeenaGondkar/0.embed\" height=\"525px\" width=\"100%\"></iframe>"
      ],
      "text/plain": [
       "<plotly.tools.PlotlyDisplay object>"
      ]
     },
     "execution_count": 10,
     "metadata": {},
     "output_type": "execute_result"
    }
   ],
   "source": [
    "import plotly.plotly as py\n",
    "import plotly.graph_objs as go\n",
    "\n",
    "data = []\n",
    "for i, n in log_runs['label'].items():\n",
    "    r = log_runs['id'][i]\n",
    "    df = pd.read_sql_query(query(r), con=connection)\n",
    "    data.append(\n",
    "        go.Scatter(x=df['block'], y=df['count'], name=n.replace('test_',''))\n",
    "    )\n",
    "\n",
    "py.iplot(data, filename='WIP-messages')"
   ]
  },
  {
   "cell_type": "markdown",
   "metadata": {},
   "source": [
    "# test\n",
    "\n",
    "* fooh\n",
    "* bar"
   ]
  },
  {
   "cell_type": "markdown",
   "metadata": {},
   "source": [
    "# test"
   ]
  },
  {
   "cell_type": "markdown",
   "metadata": {},
   "source": [
    "### testing          \n"
   ]
  }
 ],
 "metadata": {
  "kernelspec": {
   "display_name": "Python 3",
   "language": "python",
   "name": "python3"
  },
  "language_info": {
   "codemirror_mode": {
    "name": "ipython",
    "version": 3
   },
   "file_extension": ".py",
   "mimetype": "text/x-python",
   "name": "python",
   "nbconvert_exporter": "python",
   "pygments_lexer": "ipython3",
   "version": "3.6.7"
  }
 },
 "nbformat": 4,
 "nbformat_minor": 2
}

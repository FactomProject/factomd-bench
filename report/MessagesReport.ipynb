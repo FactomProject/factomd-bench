{
 "cells": [
  {
   "cell_type": "code",
   "execution_count": 2,
   "metadata": {},
   "outputs": [],
   "source": [
    "import psycopg2 as pg\n",
    "import pandas.io.sql as psql\n",
    "import pandas as pd"
   ]
  },
  {
   "cell_type": "code",
   "execution_count": 3,
   "metadata": {},
   "outputs": [],
   "source": [
    "query_simtest = \"\"\"\n",
    "SELECT\n",
    "  count(*),\n",
    "  trim('\"' FROM block::text )::int as block\n",
    "FROM (SELECT\n",
    "e->'log'->'height'::text as block\n",
    "from fnode0.missing_messages\n",
    " WHERE e->'log'->'event'->4 is not null \n",
    "\"\"\"\n",
    "\n",
    "query_order = \"\"\"\n",
    " ) as s\n",
    "  GROUP by s.block\n",
    " ORDER BY block ;\"\"\"\n",
    "\n",
    "\n",
    "def query_run(i):\n",
    "    return query_simtest + ' AND run = %s ' % i + query_order\n",
    "\n",
    "connection = pg.connect(\"host='localdb' dbname=load user=load password='load'\")\n"
   ]
  },
  {
   "cell_type": "code",
   "execution_count": 4,
   "metadata": {},
   "outputs": [],
   "source": [
    "d1 = pd.read_sql_query(query_run(1),con=connection)\n",
    "d2 = pd.read_sql_query(query_run(2),con=connection)\n",
    "d3 = pd.read_sql_query(query_run(3),con=connection)\n",
    "d4 = pd.read_sql_query(query_run(4),con=connection)\n",
    "d5 = pd.read_sql_query(query_run(5),con=connection)\n",
    "d6 = pd.read_sql_query(query_run(6),con=connection)\n",
    "\n",
    "d7 = pd.read_sql_query(query_run(7),con=connection)\n",
    "d8 = pd.read_sql_query(query_run(8),con=connection)\n",
    "d9 = pd.read_sql_query(query_run(9),con=connection)\n",
    "d10 = pd.read_sql_query(query_run(10),con=connection)\n",
    "d11 = pd.read_sql_query(query_run(11),con=connection)\n",
    "d12 = pd.read_sql_query(query_run(12),con=connection)\n"
   ]
  },
  {
   "cell_type": "code",
   "execution_count": 7,
   "metadata": {},
   "outputs": [
    {
     "data": {
      "text/html": [
       "<iframe id=\"igraph\" scrolling=\"no\" style=\"border:none;\" seamless=\"seamless\" src=\"https://plot.ly/~stackdump/20.embed\" height=\"525px\" width=\"100%\"></iframe>"
      ],
      "text/plain": [
       "<plotly.tools.PlotlyDisplay object>"
      ]
     },
     "execution_count": 7,
     "metadata": {},
     "output_type": "execute_result"
    }
   ],
   "source": [
    "import plotly.plotly as py\n",
    "import plotly.graph_objs as go\n",
    "\n",
    "import pandas as pd\n",
    "from datetime import datetime\n",
    "\n",
    "\n",
    "data = [\n",
    "    go.Scatter(x=d1['block'], y=d1['count'], name=\"v5_5LFF\"),\n",
    "    go.Scatter(x=d2['block'], y=d2['count'], name=\"v5_6LFF\"),\n",
    "    go.Scatter(x=d3['block'], y=d3['count'], name=\"v5_6LF\"),\n",
    "    go.Scatter(x=d4['block'], y=d4['count'], name=\"v5_7LFF\"),\n",
    "    go.Scatter(x=d5['block'], y=d5['count'], name=\"v5_7LF_d0\"),\n",
    "    go.Scatter(x=d6['block'], y=d6['count'], name=\"v5_8LFF\"),\n",
    "    \n",
    "    go.Scatter(x=d7['block'], y=d7['count'], name=\"5LFF\"),\n",
    "    go.Scatter(x=d8['block'], y=d8['count'], name=\"6LFF\"),\n",
    "    go.Scatter(x=d9['block'], y=d9['count'], name=\"6LF\"),\n",
    "    go.Scatter(x=d10['block'], y=d10['count'], name=\"7LFF\"),\n",
    "    go.Scatter(x=d11['block'], y=d11['count'], name=\"7LF\"),\n",
    "    go.Scatter(x=d12['block'], y=d12['count'], name=\"8LFF\"),\n",
    "]\n",
    "\n",
    "py.iplot(data, filename = 'v6 vs v5 missing messages')"
   ]
  },
  {
   "cell_type": "code",
   "execution_count": null,
   "metadata": {},
   "outputs": [],
   "source": []
  }
 ],
 "metadata": {
  "kernelspec": {
   "display_name": "Python 3",
   "language": "python",
   "name": "python3"
  },
  "language_info": {
   "codemirror_mode": {
    "name": "ipython",
    "version": 3
   },
   "file_extension": ".py",
   "mimetype": "text/x-python",
   "name": "python",
   "nbconvert_exporter": "python",
   "pygments_lexer": "ipython3",
   "version": "3.6.7"
  }
 },
 "nbformat": 4,
 "nbformat_minor": 2
}

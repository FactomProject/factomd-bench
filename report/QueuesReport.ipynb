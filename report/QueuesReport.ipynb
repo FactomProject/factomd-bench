{
 "cells": [
  {
   "cell_type": "code",
   "execution_count": 1,
   "metadata": {},
   "outputs": [],
   "source": [
    "import psycopg2 as pg\n",
    "import pandas.io.sql as psql\n",
    "import pandas as pd\n",
    "import warnings\n",
    "warnings.filterwarnings('ignore')"
   ]
  },
  {
   "cell_type": "code",
   "execution_count": 2,
   "metadata": {},
   "outputs": [],
   "source": [
    "_query = \"\"\"\n",
    "SELECT\n",
    "  trim('\"' FROM block::text )::int as block,\n",
    "  trim('\"' FROM min::text )::int as min,\n",
    "  s.holding,\n",
    "  s.acks,\n",
    "  s.msgqueue,\n",
    "  s.inmsgqueue,\n",
    "  s.apiqueue,\n",
    "  s.ackqueue,\n",
    "  s.timermsg,\n",
    "  ts::text::time,\n",
    "  s.run\n",
    "FROM (SELECT\n",
    "  --mt     | \"LIST_SIZES Holding: %v, Acks: %v, MsgQueue: %v, InMsgQueue: %v, APIQueue: %v, AckQueue: %v, TimerMsg: %v \"\n",
    "  run,\n",
    "  e->'log'->'height' as block,\n",
    "  e->'log'->'min' as min,\n",
    "  e->'log'->'event'->0 as holding,\n",
    "  e->'log'->'event'->1 as acks,\n",
    "  e->'log'->'event'->2 as msgqueue,\n",
    "  e->'log'->'event'->3 as inmsgqueue,\n",
    "  e->'log'->'event'->4 as apiqueue,\n",
    "  e->'log'->'event'->5 as ackqueue,\n",
    "  e->'log'->'event'->6 as timermsg,\n",
    "  e->'log'->'event'->7 as fmt,\n",
    "  e->'ts' as ts\n",
    "  --e as l\n",
    "FROM\n",
    "  logs\n",
    ") as s\n",
    "\n",
    "WHERE\n",
    "  s.fmt::varchar like '%LIST_SIZES%'\n",
    "\"\"\"\n",
    "\n",
    "_order = \"\"\"\n",
    "ORDER BY ts;\n",
    "\"\"\"\n",
    "\n",
    "\n",
    "def query(i):\n",
    "    return _query + ' AND run = %s ' % i + _order\n",
    "\n",
    "connection = pg.connect(\"host='localdb' dbname=load user=load password='load'\")\n"
   ]
  },
  {
   "cell_type": "code",
   "execution_count": 10,
   "metadata": {},
   "outputs": [
    {
     "data": {
      "text/html": [
       "<div>\n",
       "<style scoped>\n",
       "    .dataframe tbody tr th:only-of-type {\n",
       "        vertical-align: middle;\n",
       "    }\n",
       "\n",
       "    .dataframe tbody tr th {\n",
       "        vertical-align: top;\n",
       "    }\n",
       "\n",
       "    .dataframe thead th {\n",
       "        text-align: right;\n",
       "    }\n",
       "</style>\n",
       "<table border=\"1\" class=\"dataframe\">\n",
       "  <thead>\n",
       "    <tr style=\"text-align: right;\">\n",
       "      <th></th>\n",
       "      <th>id</th>\n",
       "      <th>label</th>\n",
       "      <th>ts</th>\n",
       "    </tr>\n",
       "  </thead>\n",
       "  <tbody>\n",
       "    <tr>\n",
       "      <th>0</th>\n",
       "      <td>1</td>\n",
       "      <td>v5_test_LLLLLLLFF_d100</td>\n",
       "      <td>2019-01-31 17:07:33.116239</td>\n",
       "    </tr>\n",
       "    <tr>\n",
       "      <th>1</th>\n",
       "      <td>3</td>\n",
       "      <td>v6_test_LLLLLLLFF_d100</td>\n",
       "      <td>2019-01-31 17:09:05.469478</td>\n",
       "    </tr>\n",
       "  </tbody>\n",
       "</table>\n",
       "</div>"
      ],
      "text/plain": [
       "   id                   label                         ts\n",
       "0   1  v5_test_LLLLLLLFF_d100 2019-01-31 17:07:33.116239\n",
       "1   3  v6_test_LLLLLLLFF_d100 2019-01-31 17:09:05.469478"
      ]
     },
     "execution_count": 10,
     "metadata": {},
     "output_type": "execute_result"
    }
   ],
   "source": [
    "log_runs = pd.read_sql_query('SELECT * from log_runs WHERE id in (3, 1);', con=connection)\n",
    "log_runs"
   ]
  },
  {
   "cell_type": "code",
   "execution_count": 12,
   "metadata": {},
   "outputs": [
    {
     "data": {
      "text/html": [
       "<iframe id=\"igraph\" scrolling=\"no\" style=\"border:none;\" seamless=\"seamless\" src=\"https://plot.ly/~stackdump/28.embed\" height=\"525px\" width=\"100%\"></iframe>"
      ],
      "text/plain": [
       "<plotly.tools.PlotlyDisplay object>"
      ]
     },
     "execution_count": 12,
     "metadata": {},
     "output_type": "execute_result"
    }
   ],
   "source": [
    "import plotly.plotly as py\n",
    "import plotly.graph_objs as go\n",
    "\n",
    "data = []\n",
    "frames = []\n",
    "for i, n in log_runs['label'].items():\n",
    "    r = log_runs['id'][i]\n",
    "    df = pd.read_sql_query(query(r), con=connection)\n",
    "    frames.append(df)\n",
    "    data.append(\n",
    "        go.Scatter(x=df['ts'], y=df['inmsgqueue'], name=n.replace('test_','')+'inmsg')\n",
    "    )\n",
    "\n",
    "py.iplot(data, filename='WIP-queues')"
   ]
  },
  {
   "cell_type": "code",
   "execution_count": 13,
   "metadata": {},
   "outputs": [
    {
     "data": {
      "text/plain": [
       "177.04249951484573"
      ]
     },
     "execution_count": 13,
     "metadata": {},
     "output_type": "execute_result"
    }
   ],
   "source": [
    "s = (frames[0].sum()['inmsgqueue'] / 10, frames[1].sum()['inmsgqueue'] / 10)\n",
    "\n",
    "100 * (s[0] - s[1]) / s[1] # Average % improvement"
   ]
  },
  {
   "cell_type": "markdown",
   "metadata": {},
   "source": [
    "## Internal Message Queue\n",
    "\n",
    "\n",
    "### Test Scenario: 7 Leaders 2 Followers\n",
    "\n",
    "* Ran simulator pushing 10 sets of 1000 commit/reveal messages.\n",
    "* Simulator is configured to drop 10% of network messages\n",
    "* Network is configured in 'alot' configuration\n",
    "* Each set is pushed into the API Queue first (without EC funding)\n",
    "* Then the associated EC address is funded allowing messages to be processed.\n",
    "\n",
    "\n",
    "### Result: Stability Gains\n",
    "\n",
    "This graph shows an improvement to messages funneled through the Internal Message Queue.\n",
    "\n",
    "This change allows for other types of network messages related to consensus \n",
    "to be handeled on time without being backloged by commit/reveal messages.\n",
    "\n",
    "### Future Work: Minute Stretching\n",
    "\n",
    "During testing we realized that under load, Internal End-Of-Minute EOM messages are being delayed causing the network to delay consensus. We've been calling this issue 'Minute Stretching'.\n",
    "\n",
    "We should be able to take a similar approach to further improve EOM stability.\n",
    "\n",
    "### Relate to Code\n",
    "\n",
    "V6.1.1 adds an additional InternalMessageQueue2 for handling Commit & Reveal Messages\n",
    "[code](https://github.com/FactomProject/factomd/blob/FD-771_rebased/engine/NetworkProcessorNet.go#L183-L186)\n"
   ]
  }
 ],
 "metadata": {
  "kernelspec": {
   "display_name": "Python 3",
   "language": "python",
   "name": "python3"
  },
  "language_info": {
   "codemirror_mode": {
    "name": "ipython",
    "version": 3
   },
   "file_extension": ".py",
   "mimetype": "text/x-python",
   "name": "python",
   "nbconvert_exporter": "python",
   "pygments_lexer": "ipython3",
   "version": "3.6.7"
  }
 },
 "nbformat": 4,
 "nbformat_minor": 2
}

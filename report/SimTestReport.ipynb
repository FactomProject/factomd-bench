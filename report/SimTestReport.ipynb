{
 "cells": [
  {
   "cell_type": "code",
   "execution_count": 1,
   "metadata": {},
   "outputs": [],
   "source": [
    "import psycopg2 as pg\n",
    "import pandas.io.sql as psql\n",
    "import pandas as pd"
   ]
  },
  {
   "cell_type": "code",
   "execution_count": 2,
   "metadata": {},
   "outputs": [],
   "source": [
    "query_simtest = \"\"\"\n",
    "SELECT\n",
    "  run,\n",
    "  trim('\"' FROM seq::text )::int as seq,\n",
    "  trim('\"' FROM block::text )::int as block,\n",
    "  trim('\"' FROM min::text )::int as min,\n",
    "  --e0,\n",
    "  e1::decimal/100000000 as batch_sec, -- time in sec as\n",
    "  --e2\n",
    "  ts::text::time\n",
    "\n",
    "FROM\n",
    "  (SELECT\n",
    "    run,\n",
    "    e->'ts' as ts,\n",
    "    e->'seq' as seq,\n",
    "    e->'log'->'height' as block,\n",
    "    e->'log'->'min' as min,\n",
    "    --e->'log'->'event' as event,\n",
    "    e->'log'->'event'->0 as e0,\n",
    "    e->'log'->'event'->1 as e1,\n",
    "    e->'log'->'event'->2 as e2\n",
    "  FROM\n",
    "    fnode0.simtest) as s\n",
    "WHERE\n",
    "  e2::text like '%RUNTIME%'\n",
    "\"\"\"\n",
    "\n",
    "query_order = \"\"\"\n",
    "ORDER BY\n",
    "  run, seq ;\n",
    "\"\"\"\n",
    "\n",
    "def query_run(i):\n",
    "    return query_simtest + ' AND run = %s ' % i + query_order\n",
    "    \n",
    "\n",
    "connection = pg.connect(\"host='localdb' dbname=load user=load password='load'\")\n"
   ]
  },
  {
   "cell_type": "code",
   "execution_count": 3,
   "metadata": {},
   "outputs": [],
   "source": [
    "d1 = pd.read_sql_query(query_run(1),con=connection)\n",
    "d2 = pd.read_sql_query(query_run(2),con=connection)\n",
    "d3 = pd.read_sql_query(query_run(3),con=connection)\n",
    "d4 = pd.read_sql_query(query_run(4),con=connection)\n",
    "d5 = pd.read_sql_query(query_run(5),con=connection)\n",
    "d6 = pd.read_sql_query(query_run(6),con=connection)\n",
    "\n",
    "d7 = pd.read_sql_query(query_run(7),con=connection)\n",
    "d8 = pd.read_sql_query(query_run(8),con=connection)\n",
    "d9 = pd.read_sql_query(query_run(9),con=connection)\n",
    "d10 = pd.read_sql_query(query_run(10),con=connection)\n",
    "d11 = pd.read_sql_query(query_run(11),con=connection)\n",
    "d12 = pd.read_sql_query(query_run(12),con=connection)\n",
    "\n",
    "#import order\n",
    "#extract test_LLLLLFF_d100\n",
    "#extract test_LLLLLLFF_d100\n",
    "#extract test_LLLLLLF_d100\n",
    "#extract test_LLLLLLLFF_d100\n",
    "#extract test_LLLLLLLF_d100\n",
    "#extract test_LLLLLLLLFF_d100\n",
    "\n",
    "\n",
    "#print(df)"
   ]
  },
  {
   "cell_type": "code",
   "execution_count": 4,
   "metadata": {},
   "outputs": [
    {
     "name": "stderr",
     "output_type": "stream",
     "text": [
      "/home/ork/.local/share/virtualenvs/bench-Z_ESBXMo/lib/python3.6/site-packages/IPython/core/display.py:689: UserWarning:\n",
      "\n",
      "Consider using IPython.display.IFrame instead\n",
      "\n"
     ]
    },
    {
     "data": {
      "text/html": [
       "<iframe id=\"igraph\" scrolling=\"no\" style=\"border:none;\" seamless=\"seamless\" src=\"https://plot.ly/~stackdump/14.embed\" height=\"525px\" width=\"100%\"></iframe>"
      ],
      "text/plain": [
       "<plotly.tools.PlotlyDisplay object>"
      ]
     },
     "execution_count": 4,
     "metadata": {},
     "output_type": "execute_result"
    }
   ],
   "source": [
    "import plotly.plotly as py\n",
    "import plotly.graph_objs as go\n",
    "\n",
    "import pandas as pd\n",
    "from datetime import datetime\n",
    "\n",
    "data = [\n",
    "    go.Scatter(x=d1['ts'], y=d1['batch_sec'], name=\"v5_5LFF\"),\n",
    "    go.Scatter(x=d2['ts'], y=d2['batch_sec'], name=\"v5_6LFF\"),\n",
    "    go.Scatter(x=d3['ts'], y=d3['batch_sec'], name=\"v5_6LF\"),\n",
    "    go.Scatter(x=d4['ts'], y=d4['batch_sec'], name=\"v5_7LFF\"),\n",
    "    go.Scatter(x=d5['ts'], y=d5['batch_sec'], name=\"v5_7LF_d0\"),\n",
    "    go.Scatter(x=d6['ts'], y=d6['batch_sec'], name=\"v5_8LFF\"),\n",
    "    \n",
    "    go.Scatter(x=d7['ts'], y=d7['batch_sec'], name=\"5LFF\"),\n",
    "    go.Scatter(x=d8['ts'], y=d8['batch_sec'], name=\"6LFF\"),\n",
    "    go.Scatter(x=d9['ts'], y=d9['batch_sec'], name=\"6LF\"),\n",
    "    go.Scatter(x=d10['ts'], y=d10['batch_sec'], name=\"7LFF\"),\n",
    "    go.Scatter(x=d11['ts'], y=d11['batch_sec'], name=\"7LF\"),\n",
    "    go.Scatter(x=d12['ts'], y=d12['batch_sec'], name=\"8LFF\"),\n",
    "\n",
    "]\n",
    "\n",
    "py.iplot(data, filename = 'v6.0.2_rc batch times by set')"
   ]
  },
  {
   "cell_type": "code",
   "execution_count": null,
   "metadata": {},
   "outputs": [],
   "source": []
  },
  {
   "cell_type": "code",
   "execution_count": null,
   "metadata": {},
   "outputs": [],
   "source": []
  }
 ],
 "metadata": {
  "kernelspec": {
   "display_name": "Python 3",
   "language": "python",
   "name": "python3"
  },
  "language_info": {
   "codemirror_mode": {
    "name": "ipython",
    "version": 3
   },
   "file_extension": ".py",
   "mimetype": "text/x-python",
   "name": "python",
   "nbconvert_exporter": "python",
   "pygments_lexer": "ipython3",
   "version": "3.6.7"
  }
 },
 "nbformat": 4,
 "nbformat_minor": 2
}

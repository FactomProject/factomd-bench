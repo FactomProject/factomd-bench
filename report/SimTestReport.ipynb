{
 "cells": [
  {
   "cell_type": "code",
   "execution_count": 1,
   "metadata": {},
   "outputs": [],
   "source": [
    "import psycopg2 as pg\n",
    "import pandas.io.sql as psql\n",
    "import pandas as pd\n",
    "import warnings\n",
    "warnings.filterwarnings('ignore')"
   ]
  },
  {
   "cell_type": "code",
   "execution_count": 2,
   "metadata": {},
   "outputs": [],
   "source": [
    "_query = \"\"\"\n",
    "SELECT\n",
    "  run,\n",
    "  trim('\"' FROM seq::text )::int as seq,\n",
    "  trim('\"' FROM block::text )::int as block,\n",
    "  trim('\"' FROM min::text )::int as min,\n",
    "  --e0,\n",
    "  e1::decimal/100000000 as batch_sec, -- time in sec as\n",
    "  --e2\n",
    "  ts::text::time\n",
    "\n",
    "FROM\n",
    "  (SELECT\n",
    "    run,\n",
    "    e->'ts' as ts,\n",
    "    e->'seq' as seq,\n",
    "    e->'log'->'height' as block,\n",
    "    e->'log'->'min' as min,\n",
    "    --e->'log'->'event' as event,\n",
    "    e->'log'->'event'->0 as e0,\n",
    "    e->'log'->'event'->1 as e1,\n",
    "    e->'log'->'event'->2 as e2\n",
    "  FROM\n",
    "    fnode0.simtest) as s\n",
    "WHERE\n",
    "  e2::text like '%RUNTIME%'\n",
    "\"\"\"\n",
    "\n",
    "_order = \"\"\"\n",
    "ORDER BY\n",
    "  run, seq ;\n",
    "\"\"\"\n",
    "\n",
    "def query(i):\n",
    "    return _query + ' AND run = %s ' % i + _order\n",
    "\n",
    "connection = pg.connect(\"host='localdb' dbname=load user=load password='load'\")"
   ]
  },
  {
   "cell_type": "code",
   "execution_count": 21,
   "metadata": {},
   "outputs": [
    {
     "data": {
      "text/html": [
       "<div>\n",
       "<style scoped>\n",
       "    .dataframe tbody tr th:only-of-type {\n",
       "        vertical-align: middle;\n",
       "    }\n",
       "\n",
       "    .dataframe tbody tr th {\n",
       "        vertical-align: top;\n",
       "    }\n",
       "\n",
       "    .dataframe thead th {\n",
       "        text-align: right;\n",
       "    }\n",
       "</style>\n",
       "<table border=\"1\" class=\"dataframe\">\n",
       "  <thead>\n",
       "    <tr style=\"text-align: right;\">\n",
       "      <th></th>\n",
       "      <th>id</th>\n",
       "      <th>label</th>\n",
       "      <th>ts</th>\n",
       "    </tr>\n",
       "  </thead>\n",
       "  <tbody>\n",
       "    <tr>\n",
       "      <th>0</th>\n",
       "      <td>1</td>\n",
       "      <td>v5_test_LLLLLLLFF_d100</td>\n",
       "      <td>2019-01-31 17:07:33.116239</td>\n",
       "    </tr>\n",
       "    <tr>\n",
       "      <th>1</th>\n",
       "      <td>3</td>\n",
       "      <td>v6_test_LLLLLLLFF_d100</td>\n",
       "      <td>2019-01-31 17:09:05.469478</td>\n",
       "    </tr>\n",
       "  </tbody>\n",
       "</table>\n",
       "</div>"
      ],
      "text/plain": [
       "   id                   label                         ts\n",
       "0   1  v5_test_LLLLLLLFF_d100 2019-01-31 17:07:33.116239\n",
       "1   3  v6_test_LLLLLLLFF_d100 2019-01-31 17:09:05.469478"
      ]
     },
     "execution_count": 21,
     "metadata": {},
     "output_type": "execute_result"
    }
   ],
   "source": [
    "log_runs = pd.read_sql_query('SELECT * from log_runs where ID in (3, 1);', con=connection)\n",
    "log_runs"
   ]
  },
  {
   "cell_type": "code",
   "execution_count": 28,
   "metadata": {
    "scrolled": true
   },
   "outputs": [
    {
     "data": {
      "text/html": [
       "<iframe id=\"igraph\" scrolling=\"no\" style=\"border:none;\" seamless=\"seamless\" src=\"https://plot.ly/~stackdump/24.embed\" height=\"525px\" width=\"100%\"></iframe>"
      ],
      "text/plain": [
       "<plotly.tools.PlotlyDisplay object>"
      ]
     },
     "execution_count": 28,
     "metadata": {},
     "output_type": "execute_result"
    }
   ],
   "source": [
    "import plotly.plotly as py\n",
    "import plotly.graph_objs as go\n",
    "\n",
    "data = []\n",
    "frames = []\n",
    "for i, n in log_runs['label'].items():\n",
    "    r = log_runs['id'][i]\n",
    "    df = pd.read_sql_query(query(r), con=connection)\n",
    "    frames.append(df)\n",
    "    data.append(\n",
    "        go.Scatter(x=df['ts'], y=df['batch_sec'], name=n.replace('test_','')+\".\"+i.__str__())\n",
    "    )\n",
    "\n",
    "py.iplot(data, filename='WIP-simtest')"
   ]
  },
  {
   "cell_type": "code",
   "execution_count": 45,
   "metadata": {},
   "outputs": [
    {
     "data": {
      "text/plain": [
       "18.907483701952447"
      ]
     },
     "execution_count": 45,
     "metadata": {},
     "output_type": "execute_result"
    }
   ],
   "source": [
    "s = (frames[0].sum()['batch_sec'] / 10, frames[1].sum()['batch_sec'] / 10)\n",
    "\n",
    "100 * (s[0] - s[1]) / s[1] # Average % improvement"
   ]
  },
  {
   "cell_type": "code",
   "execution_count": 46,
   "metadata": {},
   "outputs": [
    {
     "data": {
      "text/plain": [
       "41.73539917159482"
      ]
     },
     "execution_count": 46,
     "metadata": {},
     "output_type": "execute_result"
    }
   ],
   "source": [
    "s = (frames[0].max()['batch_sec'] / 10, frames[1].max()['batch_sec'] / 10)\n",
    "\n",
    "100 * (s[0] - s[1]) / s[1] # Outlier Max % improvement"
   ]
  },
  {
   "cell_type": "markdown",
   "metadata": {},
   "source": [
    "## Holding Queue Backlog Recovery\n",
    "\n",
    "\n",
    "### Test Scenario: 7 Leaders 2 Followers\n",
    "\n",
    "* Ran simulator pushing 10 sets of 1000 commit/reveal messages.\n",
    "* Simulator is configured to drop 10% of network messages\n",
    "* Network is configured in 'alot' configuration\n",
    "* Each set is pushed into the API Queue first (without EC funding)\n",
    "* Then the associated EC address is funded allowing messages to be processed.\n",
    "\n",
    "NOTE: this test is limited by the stability of V5.1.0 we are not able to gather accurate data\n",
    "for a realistic size network using only the simulator.\n",
    "\n",
    "### Result: Speed Improvement\n",
    "\n",
    "Each data point represents the time that it takes for the Holding Queue to return to zero. (lower is better)\n",
    "\n",
    "This graph shows an improvement to overall Rate of Commit/Reveal message processing.\n",
    "\n",
    "### Future Work: Repeat on Testnet\n",
    "\n",
    "One standard metric being touted by various blockchains is Transactions-Per-Second TPS\n",
    "\n",
    "Because we are using the simulator - this data is not appropriate to compute an overall TPS metric.\n",
    "\n",
    "Currently we are working w/ our own Development Network.\n",
    "\n",
    "Once we have designed some reasonably 'safe' tests to run,\n",
    "we will use this technique to study Testnet.\n"
   ]
  }
 ],
 "metadata": {
  "kernelspec": {
   "display_name": "Python 3",
   "language": "python",
   "name": "python3"
  },
  "language_info": {
   "codemirror_mode": {
    "name": "ipython",
    "version": 3
   },
   "file_extension": ".py",
   "mimetype": "text/x-python",
   "name": "python",
   "nbconvert_exporter": "python",
   "pygments_lexer": "ipython3",
   "version": "3.6.7"
  }
 },
 "nbformat": 4,
 "nbformat_minor": 2
}

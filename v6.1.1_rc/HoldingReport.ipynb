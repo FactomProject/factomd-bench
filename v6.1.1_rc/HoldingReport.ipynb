{
 "cells": [
  {
   "cell_type": "code",
   "execution_count": 2,
   "metadata": {},
   "outputs": [],
   "source": [
    "import psycopg2 as pg\n",
    "import pandas.io.sql as psql\n",
    "import pandas as pd"
   ]
  },
  {
   "cell_type": "code",
   "execution_count": 8,
   "metadata": {},
   "outputs": [],
   "source": [
    "query_simtest = \"\"\"\n",
    "SELECT\n",
    "  trim('\"' FROM block::text )::int as block,\n",
    "  trim('\"' FROM min::text )::int as min,\n",
    "  s.holding,\n",
    "  s.acks,\n",
    "  s.msgqueue,\n",
    "  s.inmsgqueue,\n",
    "  s.apiqueue,\n",
    "  s.ackqueue,\n",
    "  s.timermsg,\n",
    "  ts::text::time,\n",
    "  s.run\n",
    "FROM (SELECT\n",
    "  --mt     | \"LIST_SIZES Holding: %v, Acks: %v, MsgQueue: %v, InMsgQueue: %v, APIQueue: %v, AckQueue: %v, TimerMsg: %v \"\n",
    "  run,\n",
    "  e->'log'->'height' as block,\n",
    "  e->'log'->'min' as min,\n",
    "  e->'log'->'event'->0 as holding,\n",
    "  e->'log'->'event'->1 as acks,\n",
    "  e->'log'->'event'->2 as msgqueue,\n",
    "  e->'log'->'event'->3 as inmsgqueue,\n",
    "  e->'log'->'event'->4 as apiqueue,\n",
    "  e->'log'->'event'->5 as ackqueue,\n",
    "  e->'log'->'event'->6 as timermsg,\n",
    "  e->'log'->'event'->7 as fmt,\n",
    "  e->'ts' as ts\n",
    "  --e as l\n",
    "FROM\n",
    "  logs\n",
    ") as s\n",
    "\n",
    "WHERE\n",
    "  s.fmt::varchar like '%LIST_SIZES%'\n",
    "\"\"\"\n",
    "\n",
    "query_order = \"\"\"\n",
    "ORDER BY ts;\n",
    "\"\"\"\n",
    "\n",
    "\n",
    "def query_run(i):\n",
    "    return query_simtest + ' AND run = %s ' % i + query_order\n",
    "\n",
    "connection = pg.connect(\"host='localdb' dbname=load user=load password='load'\")\n"
   ]
  },
  {
   "cell_type": "code",
   "execution_count": 11,
   "metadata": {},
   "outputs": [],
   "source": [
    "d1 = pd.read_sql_query(query_run(1),con=connection)\n",
    "d2 = pd.read_sql_query(query_run(2),con=connection)\n",
    "d3 = pd.read_sql_query(query_run(3),con=connection)\n",
    "d4 = pd.read_sql_query(query_run(4),con=connection)\n",
    "d5 = pd.read_sql_query(query_run(5),con=connection)\n",
    "d6 = pd.read_sql_query(query_run(6),con=connection)\n",
    "d7 = pd.read_sql_query(query_run(7),con=connection)\n",
    "d8 = pd.read_sql_query(query_run(8),con=connection)\n",
    "d9 = pd.read_sql_query(query_run(9),con=connection)\n",
    "d10 = pd.read_sql_query(query_run(10),con=connection)\n",
    "d11 = pd.read_sql_query(query_run(11),con=connection)\n",
    "d12 = pd.read_sql_query(query_run(12),con=connection)\n"
   ]
  },
  {
   "cell_type": "code",
   "execution_count": 13,
   "metadata": {},
   "outputs": [
    {
     "data": {
      "text/html": [
       "<iframe id=\"igraph\" scrolling=\"no\" style=\"border:none;\" seamless=\"seamless\" src=\"https://plot.ly/~stackdump/16.embed\" height=\"525px\" width=\"100%\"></iframe>"
      ],
      "text/plain": [
       "<plotly.tools.PlotlyDisplay object>"
      ]
     },
     "execution_count": 13,
     "metadata": {},
     "output_type": "execute_result"
    }
   ],
   "source": [
    "import plotly.plotly as py\n",
    "import plotly.graph_objs as go\n",
    "\n",
    "import pandas as pd\n",
    "from datetime import datetime\n",
    "\n",
    "\n",
    "data = [\n",
    "    go.Scatter(x=d1['ts'], y=d1['holding'], name=\"LF_d0\"),\n",
    "    go.Scatter(x=d2['ts'], y=d2['holding'], name=\"LF_d100\"),\n",
    "    go.Scatter(x=d3['ts'], y=d3['holding'], name=\"LLF_d0\"),\n",
    "    go.Scatter(x=d4['ts'], y=d4['holding'], name=\"LLF_d100\"),\n",
    "    go.Scatter(x=d5['ts'], y=d5['holding'], name=\"LLLF_d0\"),\n",
    "    go.Scatter(x=d6['ts'], y=d6['holding'], name=\"LLLF_d100\"),\n",
    "    \n",
    "    go.Scatter(x=d7['ts'], y=d7['holding'], name=\"4LF_d0\"),\n",
    "    go.Scatter(x=d8['ts'], y=d8['holding'], name=\"4LF_d100\"),\n",
    "    go.Scatter(x=d9['ts'], y=d9['holding'], name=\"5LF_d100\"),\n",
    "    go.Scatter(x=d10['ts'], y=d10['holding'], name=\"6LF_d100\"),\n",
    "    go.Scatter(x=d11['ts'], y=d11['holding'], name=\"7LF_d0\"),\n",
    "    go.Scatter(x=d12['ts'], y=d12['holding'], name=\"8LF_d100\"),\n",
    "\n",
    "]\n",
    "\n",
    "py.iplot(data, filename = 'v6.0.2_rc holding queue size by set')"
   ]
  },
  {
   "cell_type": "code",
   "execution_count": null,
   "metadata": {},
   "outputs": [],
   "source": []
  }
 ],
 "metadata": {
  "kernelspec": {
   "display_name": "Python 3",
   "language": "python",
   "name": "python3"
  },
  "language_info": {
   "codemirror_mode": {
    "name": "ipython",
    "version": 3
   },
   "file_extension": ".py",
   "mimetype": "text/x-python",
   "name": "python",
   "nbconvert_exporter": "python",
   "pygments_lexer": "ipython3",
   "version": "3.6.7"
  }
 },
 "nbformat": 4,
 "nbformat_minor": 2
}
